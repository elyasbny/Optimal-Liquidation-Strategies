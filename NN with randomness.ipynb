{
  "nbformat": 4,
  "nbformat_minor": 0,
  "metadata": {
    "colab": {
      "name": "NN2.ipynb",
      "provenance": [],
      "collapsed_sections": [
        "QG1Kb74Sto1Z",
        "hjXyfLI7qsG1",
        "QRQUiixxyExs"
      ],
      "authorship_tag": "ABX9TyPoI6YwW9d23Uol1ZbQh7Ks",
      "include_colab_link": true
    },
    "kernelspec": {
      "name": "python3",
      "display_name": "Python 3"
    },
    "language_info": {
      "name": "python"
    }
  },
  "cells": [
    {
      "cell_type": "markdown",
      "metadata": {
        "id": "view-in-github",
        "colab_type": "text"
      },
      "source": [
        "<a href=\"https://colab.research.google.com/github/elyasbny/Optimal-Liquidation-Strategies/blob/main/NN%20with%20randomness.ipynb\" target=\"_parent\"><img src=\"https://colab.research.google.com/assets/colab-badge.svg\" alt=\"Open In Colab\"/></a>"
      ]
    },
    {
      "cell_type": "markdown",
      "source": [
        "# Libraries"
      ],
      "metadata": {
        "id": "QG1Kb74Sto1Z"
      }
    },
    {
      "cell_type": "code",
      "execution_count": 2,
      "metadata": {
        "id": "gxYWHOTWqV72"
      },
      "outputs": [],
      "source": [
        "import matplotlib.pyplot as plt\n",
        "import numpy as np\n",
        "import torch\n",
        "import torch.nn as nn\n",
        "import torch.nn.functional as F\n",
        "from torch import optim\n",
        "\n",
        "from torch.nn import Linear\n",
        "from torch.nn import ReLU\n",
        "from torch.nn import Softmax\n",
        "from torch.nn import Module\n",
        "from torch import Tensor\n",
        "from torch.nn import Linear\n",
        "from torch.nn import ReLU\n",
        "from torch.nn import Sigmoid\n",
        "from torch.nn import Tanh\n",
        "from torch.nn import Module"
      ]
    },
    {
      "cell_type": "markdown",
      "source": [
        "# Analytical solution\n",
        "Work of S. Jaimungal https://gist.github.com/sebjai/f87146f994cd5a115b123613ac5bece8#file-liquidation_permanent_price_impact_helper-ipynb which computes the optimal solution for the liquidation problem described in the book Algorithmic and High Frequency Tradin"
      ],
      "metadata": {
        "id": "hjXyfLI7qsG1"
      }
    },
    {
      "cell_type": "code",
      "source": [
        "def inter_extrapolation(x, y, e):\n",
        "    \"\"\" Extrapolation and interpolation.\n",
        "    \n",
        "    :param x: a numpy array\n",
        "    :param y: a numpy array\n",
        "    :param e: a numpy array, equivalent of x\n",
        "    :return: a numpy array\n",
        "    \"\"\"\n",
        "    new_x = np.sort(x)\n",
        "    new_y = y[np.argsort(x)]\n",
        "\n",
        "    def point_wise(ep):\n",
        "        if ep < new_x[0]:\n",
        "            return new_y[0] + (ep - new_x[0]) * (new_y[1] - new_y[0]) / (new_x[1] - new_x[0])\n",
        "        elif ep > new_x[-1]:\n",
        "            return new_y[-1] + (ep - new_x[-1]) * (new_y[-1] - new_y[-2]) / (new_x[-1] - new_x[-2])\n",
        "        else:\n",
        "            return np.interp([ep], x, y)[0]\n",
        "    return np.array([point_wise(i) for i in e])\n",
        "\n",
        "\n",
        "def calculate_inventory_trading_speed(alpha, phi, t, tt, T, b, k):\n",
        "    \"\"\" For given points t, this function solve for the optimal speed of trading as nu, and investor's inventory along the\n",
        "        optimal path as Q. \n",
        "        This function also returns optimal speed of trading as nut, and investor's inventory along the optimal path Qt as a\n",
        "        function of time, tt, which is a vector of \"infinitely\" small time interval.\n",
        "    \"\"\"\n",
        "    tau = T - t\n",
        "    zeta = ((alpha - 0.5 * b) + np.sqrt(k * phi)) / ((alpha - 0.5 * b) - np.sqrt(k * phi))\n",
        "    gamma = np.sqrt(phi / k)\n",
        "    chi = np.sqrt(k * phi) * np.divide(1 + zeta * np.exp(2 * gamma * tau), 1 - zeta * np.exp(2 * gamma * tau))\n",
        "    Q = np.divide(zeta * np.exp(gamma * tau) - np.exp(-gamma * tau), zeta * np.exp(gamma * T) - np.exp(-gamma * T))\n",
        "    nu = np.multiply(-chi, Q) / k\n",
        "    Qt = inter_extrapolation(t, Q, tt)\n",
        "    nut = inter_extrapolation(t, nu, tt)\n",
        "    return Q, nu, Qt, nut\n",
        "\n",
        "def slider_plot_inventory_trading_speed(phi, symb, t, tt, T, b, k, labels):\n",
        "    \"\"\" This function returns a dynamic version of above plot with penalty term alpha controlled by a dynamic slider.\n",
        "        For demonstration purposes, only alpha = 0.01, and alpha = 100 (as an approximation of positive infinity) are plotted.\n",
        "        To use this function, call this function on the main file using same argument as above function, but remove 'alpha0' \n",
        "        parameter since you do not need to specify alpha here. Then, mannually recompile Liquidation_Permanent_Price_Impact file\n",
        "        to use the slider.\n",
        "    \"\"\"\n",
        "    def update(alpha):\n",
        "        fig, (ax_inv, ax_trad) = plt.subplots(ncols=2)\n",
        "        color_idx = np.linspace(0, 1, phi.shape[0])\n",
        "        for i, line in zip(color_idx, range(0, phi.shape[0])):\n",
        "            inv_line, trad_line, inv_dot, trad_dot = calculate_inventory_trading_speed(alpha, phi[line], t, tt, T, b, k)\n",
        "            plt1, = ax_inv.plot(tt, inv_dot, color=plt.cm.rainbow(i), label=labels[line], marker=symb[line], linestyle='None')\n",
        "            plt2, = ax_trad.plot(tt, trad_dot, color=plt.cm.rainbow(i), label=labels[line], marker=symb[line], linestyle='None')\n",
        "            plt3, = ax_inv.plot(t, inv_line, linestyle='-', color=plt.cm.rainbow(i))\n",
        "            plt4, = ax_trad.plot(t, trad_line, linestyle='-', color=plt.cm.rainbow(i))\n",
        "        ax_inv.legend()\n",
        "        ax_inv.set_xlabel(r\"Time\", fontsize=18)\n",
        "        ax_inv.set_ylabel(r\"Inventory\", fontsize=18)\n",
        "        ax_trad.legend()\n",
        "        ax_trad.set_xlabel(r\"Time\", fontsize=18)\n",
        "        ax_trad.set_ylabel(r\"Trading Speed\", fontsize=18)\n",
        "        ax_trad.yaxis.set_label_coords(-0.1,0.5)\n",
        "        plt.suptitle(r\"\\alpha = \" + str(alpha), fontsize=20)\n",
        "        fig.canvas.draw()\n",
        "    return interactive(update, {'manual': False}, alpha=widgets.FloatSlider(min=0.01, max=100, step=0.01, value=alpha0))\n",
        "\n",
        "def solve_pde(T, dt, qmax, dq, k, a, b, alpha, phi, Ndt, Ndq):\n",
        "    \"\"\" This function solves for optimal trading speed in feed back form as nus, and inventory of optimal path as Qs.\n",
        "    They are used to be presented as a function of time, t.\n",
        "    \"\"\"\n",
        "    t = np.arange(0, T+dt, dt)\n",
        "    q = np.arange(0, qmax+dq, dq)\n",
        "\n",
        "    myleg = []\n",
        "\n",
        "    nus = np.full((Ndt+1, a.shape[0]), np.NaN)\n",
        "    Qs = np.full((Ndt+1, a.shape[0]), np.NaN)\n",
        "    Qs[0,:] = qmax\n",
        "\n",
        "    for i in range(0, a.shape[0], 1):\n",
        "        xi = (a[i] * k) / ((1 + a[i]) * k) ** (1 + 1/a[i])\n",
        "\n",
        "        g = np.full((Ndq+1, Ndt+1), np.NaN)\n",
        "        nu = np.full((Ndq+1, Ndt+1), np.NaN)\n",
        "        \n",
        "        g[:, g.shape[1]-1] = -(alpha ** a[i]) / k ** (a[i] - 1) * np.power(q, 1 + a[i]) + 0.5 * b * np.power(q, 2)\n",
        "\n",
        "        for j in range(Ndt-1, -1, -1):\n",
        "\n",
        "            # Explicit Scheme\n",
        "            dqg = (g[1:g.shape[0], j+1] - g[0:(g.shape[0]-1), j+1]) / dq\n",
        "            g[1:g.shape[0], j] = g[1:g.shape[0], j+1] + dt * (-phi * np.power(q[1:q.shape[0]], 2) + xi * (np.power(-dqg, 1 + 1 / a[i])))\n",
        "            g[0, j] = 0\n",
        "\n",
        "            dqg = (g[1:g.shape[0], j] - g[0:(g.shape[0]-1), j]) / dq\n",
        "            nu[1:nu.shape[0], j] = np.power(-dqg / ((1 + a[i]) * k), 1 / a[i])\n",
        "            nu[0, j] = 0\n",
        "\n",
        "            # Implicit-explicit scheme\n",
        "            g[:, j] = np.real(g[:, j])\n",
        "            nu[:, j] = np.real(nu[:, j])\n",
        "\n",
        "        for j in range(0, Ndt, 1):\n",
        "            nus[j, i] = inter_extrapolation(q, nu[:, j], [Qs[j, i]])\n",
        "            Qs[j+1, i] = Qs[j, i] - nus[j, i] * dt\n",
        "\n",
        "        myleg.append(\"$a=\" + str(a[i]) + \"$\")\n",
        "    return nus, Qs, myleg, t, q\n",
        "\n",
        "def plot_multiple(x, y, xlab=None, ylab=None, main=None, labels=None):\n",
        "    \"\"\" This is a plotting function intended to plot multiple Ys for a single x.\n",
        "    \"\"\"\n",
        "    color_idx = np.linspace(0, 1, y.shape[0])\n",
        "    for i, line in zip(color_idx, range(0, y.shape[0])):\n",
        "        if labels is not None:\n",
        "            plt.plot(x, y[line, :], color=plt.cm.rainbow(i), label=labels[line], linestyle='-')\n",
        "        else:\n",
        "            plt.plot(x, y[line, :], color=plt.cm.rainbow(i), linestyle='-')\n",
        "    if xlab is not None:\n",
        "        plt.xlabel(xlab, fontsize=18)\n",
        "    if ylab is not None:\n",
        "        plt.ylabel(ylab, fontsize=18)\n",
        "    if main is not None:\n",
        "        plt.title(main, fontsize=12)\n",
        "    if labels is not None:\n",
        "        plt.legend()\n",
        "    plt.show()"
      ],
      "metadata": {
        "id": "Rzk-3pg1qato"
      },
      "execution_count": 105,
      "outputs": []
    },
    {
      "cell_type": "markdown",
      "source": [
        "# Neural network"
      ],
      "metadata": {
        "id": "jZRpfFKatxKf"
      }
    },
    {
      "cell_type": "code",
      "source": [
        "class MLP(Module):\n",
        "    def __init__(self, n_inputs):\n",
        "        super(MLP, self).__init__()\n",
        "        self.fc1 = nn.Linear(n_inputs, 8)\n",
        "        self.fc2 = nn.Linear(8, 8)\n",
        "        self.fc3 = nn.Linear(8, 8)\n",
        "        self.fc4 = nn.Linear(8, 1)\n",
        " \n",
        "\n",
        "    def forward(self, x):\n",
        "        x = nn.functional.relu(self.fc1(x))\n",
        "        x = nn.functional.relu(self.fc2(x))\n",
        "        x = nn.functional.relu(self.fc3(x))\n",
        "        x = self.fc4(x)\n",
        "        return x"
      ],
      "metadata": {
        "id": "hzdtC6hPl5bh"
      },
      "execution_count": 143,
      "outputs": []
    },
    {
      "cell_type": "code",
      "source": [
        " def neural_network(I,T,n,price,b,k,alpha,phi):   \n",
        "    dt=T/n\n",
        "    model=MLP(2)\n",
        "    sigma=0.1\n",
        "    steps=300\n",
        "    lot_size=1\n",
        "    optimizer = optim.Adam(model.parameters(), lr=0.001)\n",
        "    speed_list=[]\n",
        "    #optimizer = optim.ASGD(model.parameters(), lr=0.01, lambd=0.0001, alpha=0.75, t0=1000000.0, weight_decay=0)\n",
        "    for i in range(steps):\n",
        "        optimizer.zero_grad()\n",
        "        values=torch.cat([torch.ones([lot_size,1,1])*I,torch.ones([lot_size,1,1])*price,torch.zeros([lot_size,1,1]),torch.zeros([lot_size,1,1])],1)\n",
        "        #values=torch.tensor([[I],[price],[0],[0]])\n",
        "        values=values.float()\n",
        "        #inventory_list=[I]\n",
        "        #speed_list=[]\n",
        "        \n",
        "        for i_time in range(n):\n",
        "            for lot_number in range(lot_size):\n",
        "              #actions_to_sell = model(torch.cat([values[lot_number,0,-1].reshape(1),torch.ones(1)*number]))\n",
        "              actions_to_sell = model(torch.cat([values[lot_number,0,-1].reshape(1),torch.ones(1)*i_time/T]))\n",
        "              #speed_list.append(actions_to_sell.detach().numpy()[0])\n",
        "              x1=values[lot_number,0,-1]-actions_to_sell*dt\n",
        "              x2=values[lot_number,1,-1]-b*actions_to_sell*dt+sigma*np.random.normal(0, T/n, 1)[0]\n",
        "              x3=values[lot_number,1,-1]-k*actions_to_sell\n",
        "              x4=values[lot_number,3,-1]+x3*actions_to_sell*dt -phi*values[lot_number,0,-1]**2*dt\n",
        "              x1=x1.resize(1,1,1)\n",
        "              x2=x2.resize(1,1,1)\n",
        "              x3=x3.resize(1,1,1)\n",
        "              x4=x4.resize(1,1,1)\n",
        "              if lot_number==0:\n",
        "                valuesnew=torch.cat([x1,x2,x3,x4],1)\n",
        "              else:\n",
        "                valuesnew=torch.cat([valuesnew,torch.cat([x1,x2,x3,x4],1)],0)\n",
        "            values=torch.cat([values,valuesnew],2)\n",
        "            if i==steps-1 and lot_number==lot_size-1:\n",
        "              speed_list.append(actions_to_sell.detach().numpy()[0])      \n",
        "        loss = torch.sum( - values[:,3,n] - values[:,0,n]*(values[:,1,n]-alpha*values[:,0,n]) + phi*values[:,0,-1]**2*T/n )\n",
        "        #if i%100==0:\n",
        "        #  print(inventory_list)\n",
        "        #  print(values)\n",
        "        #  print(loss)\n",
        "        loss.backward()\n",
        "        optimizer.step()\n",
        "        #print(values)\n",
        "    inventory_list=values[lot_size-1,0,:].detach().numpy()\n",
        "    speed_list.append(inventory_list[-1]/dt)\n",
        "    return inventory_list,speed_list,values   \n",
        "    "
      ],
      "metadata": {
        "id": "RMjiQfPF_7i8"
      },
      "execution_count": 162,
      "outputs": []
    },
    {
      "cell_type": "code",
      "source": [
        "#State with action price (not functional yet) \n",
        " def neural_network2(I,T,n,price,b,k,alpha,phi):   \n",
        "    dt=T/n\n",
        "    model=MLP(2)\n",
        "    model2=MLP(3)\n",
        "    sigma=0.1\n",
        "    steps=5000\n",
        "    lot_size=1\n",
        "    optimizer = optim.Adam(model.parameters(), lr=0.001)\n",
        "    speed_list=[]\n",
        "    #optimizer = optim.ASGD(model.parameters(), lr=0.01, lambd=0.0001, alpha=0.75, t0=1000000.0, weight_decay=0)\n",
        "    for i in range(steps):\n",
        "        optimizer.zero_grad()\n",
        "        values=torch.cat([torch.ones([lot_size,1,1])*I,torch.ones([lot_size,1,1])*price,torch.zeros([lot_size,1,1]),torch.zeros([lot_size,1,1])],1)\n",
        "        #values=torch.tensor([[I],[price],[0],[0]])\n",
        "        values=values.float()\n",
        "        #inventory_list=[I]\n",
        "        #speed_list=[]\n",
        "        \n",
        "        for i_time in range(n):\n",
        "            for lot_number in range(lot_size):\n",
        "              #actions_to_sell = model(torch.cat([values[lot_number,0,-1].reshape(1),torch.ones(1)*number]))\n",
        "              actions_to_sell = model2(torch.cat([values[lot_number,0,-1].reshape(1),torch.ones(1)*i_time/T,values[lot_number,1,-1].reshape(1)]))\n",
        "              #speed_list.append(actions_to_sell.detach().numpy()[0])\n",
        "              x1=values[lot_number,0,-1]-actions_to_sell*dt\n",
        "              x2=values[lot_number,1,-1]-b*actions_to_sell*dt+sigma*np.random.normal(0, dt, 1)[0]\n",
        "              x3=values[lot_number,1,-1]-k*actions_to_sell\n",
        "              x4=values[lot_number,3,-1]+x3*actions_to_sell*dt -phi*values[lot_number,0,-1]**2*dt\n",
        "              x1=x1.resize(1,1,1)\n",
        "              x2=x2.resize(1,1,1)\n",
        "              x3=x3.resize(1,1,1)\n",
        "              x4=x4.resize(1,1,1)\n",
        "              if lot_number==0:\n",
        "                valuesnew=torch.cat([x1,x2,x3,x4],1)\n",
        "              else:\n",
        "                valuesnew=torch.cat([valuesnew,torch.cat([x1,x2,x3,x4],1)],0)\n",
        "            values=torch.cat([values,valuesnew],2)\n",
        "            if i==steps-1 and lot_number==lot_size-1:\n",
        "              speed_list.append(actions_to_sell.detach().numpy()[0])      \n",
        "        loss = torch.sum( - values[:,3,n] - values[:,0,n]*(values[:,1,n]-alpha*values[:,0,n]) + phi*values[:,0,-1]**2*T/n )\n",
        "        #if i%100==0:\n",
        "        #  print(inventory_list)\n",
        "        #  print(values)\n",
        "        #  print(loss)\n",
        "        loss.backward()\n",
        "        optimizer.step()\n",
        "        #print(values)\n",
        "    inventory_list=values[lot_size-1,0,:].detach().numpy()\n",
        "    speed_list.append(inventory_list[-1]/dt)\n",
        "    return inventory_list,speed_list,values   \n",
        "    "
      ],
      "metadata": {
        "id": "fdEUY8oZ_qyT"
      },
      "execution_count": 146,
      "outputs": []
    },
    {
      "cell_type": "markdown",
      "source": [
        "# Parameters"
      ],
      "metadata": {
        "id": "QRQUiixxyExs"
      }
    },
    {
      "cell_type": "code",
      "source": [
        "#Time\n",
        "T=1\n",
        "#Number of trades\n",
        "n=10\n",
        "#Initial inventory\n",
        "I=1\n",
        "#Initial price\n",
        "price=20\n",
        "#Permanent price impact\n",
        "b=10e-3\n",
        "#Temporary price impact\n",
        "k=10e-3\n",
        "#Inventory Penalty\n",
        "phi=0.01\n",
        "#Terminal Penalty\n",
        "alpha=0.01\n",
        "\n",
        "# Parameter settings\n",
        "T = 1\n",
        "Ndt = 6.5 * 3600\n",
        "dt = T / Ndt\n",
        "t = np.arange(0, T + dt, dt)\n",
        "\n",
        "k = 0.001\n",
        "b = 0.001\n",
        "\n",
        "tau = T - t\n",
        "tt = np.arange(0, 1 + 1 / 10, 1 / 10)\n",
        "\n",
        "#myphi = np.array([10e-10, 0.001, 0.01, 0.1])\n",
        "myphi=np.array([0.01])\n",
        "symb = np.array([\"o\", \"*\", \"+\", \"^\"])\n",
        "\n",
        "alpha = 100"
      ],
      "metadata": {
        "id": "ySeC9i-nyJRm"
      },
      "execution_count": 65,
      "outputs": []
    },
    {
      "cell_type": "markdown",
      "source": [
        "# Results and graphs"
      ],
      "metadata": {
        "id": "Zc4v6Ia7s9MI"
      }
    },
    {
      "cell_type": "code",
      "source": [
        "def plot_inventory_trading_speed(alpha0, phi, symb, t, tt, T, b, k, labels, main):\n",
        "    \"\"\" This function plots Fig 6.2 using above function to calculate inventory and speed of tading vs time.\n",
        "    \"\"\"\n",
        "    fig, (ax_inv, ax_trad) = plt.subplots(ncols=2)\n",
        "    fig.set_size_inches(10.5, 5.5)\n",
        "    color_idx = np.linspace(0, 1, phi.shape[0])\n",
        "    for i, line in zip(color_idx, range(0, phi.shape[0])):\n",
        "        inv_line, trad_line, inv_dot, trad_dot = calculate_inventory_trading_speed(alpha0, phi[line], t, tt, T, b, k)\n",
        "        inv_ML, trad_ML, values_ML = neural_network(1,T,10,price,b,k,alpha0,phi[line])\n",
        "        plt1, = ax_inv.plot(tt, inv_dot, color=plt.cm.rainbow(i), label=labels[line], marker=symb[line], linestyle='None')\n",
        "        plt2, = ax_trad.plot(tt, trad_dot, color=plt.cm.rainbow(i), label=labels[line], marker=symb[line], linestyle='None')\n",
        "        plt3, = ax_inv.plot(t, inv_line, linestyle='-', color=plt.cm.rainbow(i))\n",
        "        plt4, = ax_trad.plot(t, trad_line, linestyle='-', color=plt.cm.rainbow(i))\n",
        "        plt5, = ax_inv.plot(tt, inv_ML, linestyle=':', color=plt.cm.rainbow(i))\n",
        "        plt6, = ax_trad.plot(tt, trad_ML, linestyle=':', color=plt.cm.rainbow(i))\n",
        "\n",
        "    ax_inv.legend()\n",
        "    ax_inv.set_xlabel(r\"Time\", fontsize=18)\n",
        "    ax_inv.set_ylabel(r\"Inventory\", fontsize=18)\n",
        "    ax_trad.legend()\n",
        "    ax_trad.set_xlabel(r\"Time\", fontsize=18)\n",
        "    ax_trad.set_ylabel(r\"Trading Speed\", fontsize=18)\n",
        "    ax_trad.yaxis.set_label_coords(-0.1,0.5)\n",
        "    plt.suptitle(main, fontsize=20)\n",
        "    fig.canvas.draw()"
      ],
      "metadata": {
        "id": "167eo6WCmO9O"
      },
      "execution_count": 149,
      "outputs": []
    },
    {
      "cell_type": "code",
      "source": [
        "plot_inventory_trading_speed(0.01, myphi, symb, t, tt, T, b, k, [r\"$\\phi = $\" + str(i) for i in myphi], main=r\"$\\alpha = 0.01$\")"
      ],
      "metadata": {
        "colab": {
          "base_uri": "https://localhost:8080/",
          "height": 443
        },
        "id": "duFYtmQqohXk",
        "outputId": "31892045-73ec-4ef2-e33f-7c11a7700905"
      },
      "execution_count": 161,
      "outputs": [
        {
          "output_type": "stream",
          "name": "stderr",
          "text": [
            "/usr/local/lib/python3.7/dist-packages/torch/_tensor.py:549: UserWarning: non-inplace resize is deprecated\n",
            "  warnings.warn(\"non-inplace resize is deprecated\")\n"
          ]
        },
        {
          "output_type": "display_data",
          "data": {
            "text/plain": [
              "<Figure size 756x396 with 2 Axes>"
            ],
            "image/png": "[encoded data removed]"
          },
          "metadata": {
            "needs_background": "light"
          }
        }
      ]
    },
    {
      "cell_type": "code",
      "source": [
        "plot_inventory_trading_speed(100, myphi, symb, t, tt, T, b, k, [r\"$\\phi = $\" + str(i) for i in myphi], main=r\"$\\alpha = +\\infty$\")"
      ],
      "metadata": {
        "colab": {
          "base_uri": "https://localhost:8080/",
          "height": 443
        },
        "id": "OxJUSlGptM2b",
        "outputId": "ec0d3719-7d5c-4f27-e3ef-873f7eeb921d"
      },
      "execution_count": 156,
      "outputs": [
        {
          "output_type": "stream",
          "name": "stderr",
          "text": [
            "/usr/local/lib/python3.7/dist-packages/torch/_tensor.py:549: UserWarning: non-inplace resize is deprecated\n",
            "  warnings.warn(\"non-inplace resize is deprecated\")\n"
          ]
        },
        {
          "output_type": "display_data",
          "data": {
            "text/plain": [
              "<Figure size 756x396 with 2 Axes>"
            ],
            "image/png": "[encoded data removed]"
          },
          "metadata": {
            "needs_background": "light"
          }
        }
      ]
    }
  ]
}